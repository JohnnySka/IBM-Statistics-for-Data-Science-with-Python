{
 "cells": [
  {
   "cell_type": "markdown",
   "metadata": {},
   "source": [
    "<p style=\"text-align:center\">\n",
    "    <a href=\"https://skills.network/?utm_medium=Exinfluencer&utm_source=Exinfluencer&utm_content=000026UJ&utm_term=10006555&utm_id=NA-SkillsNetwork-Channel-SkillsNetworkCoursesIBMDeveloperSkillsNetworkST0151ENSkillsNetwork956-2022-01-01\" target=\"_blank\">\n",
    "    <img src=\"https://cf-courses-data.s3.us.cloud-object-storage.appdomain.cloud/assets/logos/SN_web_lightmode.png\" width=\"200\" alt=\"Skills Network Logo\"  />\n",
    "    </a>\n",
    "</p>\n"
   ]
  },
  {
   "cell_type": "markdown",
   "metadata": {},
   "source": [
    "# Descriptive Statistics\n"
   ]
  },
  {
   "cell_type": "markdown",
   "metadata": {},
   "source": [
    "Estimated time needed: **30** minutes\n"
   ]
  },
  {
   "cell_type": "markdown",
   "metadata": {},
   "source": [
    "In this lab, you'll go over some hands-on exercises using Python.\n"
   ]
  },
  {
   "cell_type": "markdown",
   "metadata": {},
   "source": [
    "## Objectives\n"
   ]
  },
  {
   "cell_type": "markdown",
   "metadata": {},
   "source": [
    "* Import Libraries\n",
    "* Read in Data\n",
    "* Lab exercises and questions\n"
   ]
  },
  {
   "cell_type": "markdown",
   "metadata": {},
   "source": [
    "----\n"
   ]
  },
  {
   "cell_type": "markdown",
   "metadata": {},
   "source": [
    "## Import Libraries\n"
   ]
  },
  {
   "cell_type": "markdown",
   "metadata": {},
   "source": [
    "All Libraries required for this lab are listed below. The libraries pre-installed on Skills Network Labs are commented. If you run this notebook in a different environment, e.g. your desktop, you may need to uncomment and install certain libraries.\n"
   ]
  },
  {
   "cell_type": "code",
   "execution_count": 1,
   "metadata": {},
   "outputs": [],
   "source": [
    "#! mamba install pandas==1.3.3\n",
    "#! mamba install numpy=1.21.2\n",
    "#!  mamba install matplotlib=3.4.3-y"
   ]
  },
  {
   "cell_type": "markdown",
   "metadata": {},
   "source": [
    "Import the libraries we need for the lab\n"
   ]
  },
  {
   "cell_type": "code",
   "execution_count": 2,
   "metadata": {
    "tags": []
   },
   "outputs": [],
   "source": [
    "import numpy as np\n",
    "import pandas as pd\n",
    "import matplotlib.pyplot as pyplot"
   ]
  },
  {
   "cell_type": "markdown",
   "metadata": {},
   "source": [
    "Read in the csv file from the URL using the request library\n"
   ]
  },
  {
   "cell_type": "code",
   "execution_count": 3,
   "metadata": {
    "tags": []
   },
   "outputs": [],
   "source": [
    "ratings_url = 'https://cf-courses-data.s3.us.cloud-object-storage.appdomain.cloud/IBMDeveloperSkillsNetwork-ST0151EN-SkillsNetwork/labs/teachingratings.csv'\n",
    "ratings_df=pd.read_csv(ratings_url)\n"
   ]
  },
  {
   "cell_type": "markdown",
   "metadata": {},
   "source": [
    "## Data Description\n",
    "| Variable|  Description |\n",
    "|---|---|\n",
    "| minority  | Does the instructor belong to a minority (non-Caucasian) group?|\n",
    "|age|The professor's age|\n",
    "|gender|Indicating whether the instructor was male or female.|\n",
    "|credits|Is the course a single-credit elective?|\n",
    "|beauty|Rating of the instructor's physical appearance by a panel of six students averaged across the six panelists and standardized to have a mean of zero.|\n",
    "|eval|Course overall teaching evaluation score, on a scale of 1 (very unsatisfactory) to 5 (excellent).|\n",
    "|division|Is the course an upper or lower division course?|\n",
    "|native|Is the instructor a native English speaker?|\n",
    "|tenure|Is the instructor on a tenure track?|\n",
    "|students|Number of students that participated in the evaluation.|\n",
    "|allstudents|Number of students enrolled in the course.|\n",
    "|prof|Indicating instructor identifier.|\n"
   ]
  },
  {
   "cell_type": "markdown",
   "metadata": {},
   "source": [
    "## Display information about the dataset\n",
    "1. Structure of the dataframe\n",
    "2. Describe the dataset\n",
    "3. Number of rows and columns\n"
   ]
  },
  {
   "cell_type": "markdown",
   "metadata": {},
   "source": [
    "print out the first five rows of the data\n"
   ]
  },
  {
   "cell_type": "code",
   "execution_count": 4,
   "metadata": {
    "tags": []
   },
   "outputs": [
    {
     "data": {
      "text/html": [
       "<div>\n",
       "<style scoped>\n",
       "    .dataframe tbody tr th:only-of-type {\n",
       "        vertical-align: middle;\n",
       "    }\n",
       "\n",
       "    .dataframe tbody tr th {\n",
       "        vertical-align: top;\n",
       "    }\n",
       "\n",
       "    .dataframe thead th {\n",
       "        text-align: right;\n",
       "    }\n",
       "</style>\n",
       "<table border=\"1\" class=\"dataframe\">\n",
       "  <thead>\n",
       "    <tr style=\"text-align: right;\">\n",
       "      <th></th>\n",
       "      <th>minority</th>\n",
       "      <th>age</th>\n",
       "      <th>gender</th>\n",
       "      <th>credits</th>\n",
       "      <th>beauty</th>\n",
       "      <th>eval</th>\n",
       "      <th>division</th>\n",
       "      <th>native</th>\n",
       "      <th>tenure</th>\n",
       "      <th>students</th>\n",
       "      <th>allstudents</th>\n",
       "      <th>prof</th>\n",
       "      <th>PrimaryLast</th>\n",
       "      <th>vismin</th>\n",
       "      <th>female</th>\n",
       "      <th>single_credit</th>\n",
       "      <th>upper_division</th>\n",
       "      <th>English_speaker</th>\n",
       "      <th>tenured_prof</th>\n",
       "    </tr>\n",
       "  </thead>\n",
       "  <tbody>\n",
       "    <tr>\n",
       "      <th>0</th>\n",
       "      <td>yes</td>\n",
       "      <td>36</td>\n",
       "      <td>female</td>\n",
       "      <td>more</td>\n",
       "      <td>0.289916</td>\n",
       "      <td>4.3</td>\n",
       "      <td>upper</td>\n",
       "      <td>yes</td>\n",
       "      <td>yes</td>\n",
       "      <td>24</td>\n",
       "      <td>43</td>\n",
       "      <td>1</td>\n",
       "      <td>0</td>\n",
       "      <td>1</td>\n",
       "      <td>1</td>\n",
       "      <td>0</td>\n",
       "      <td>1</td>\n",
       "      <td>1</td>\n",
       "      <td>1</td>\n",
       "    </tr>\n",
       "    <tr>\n",
       "      <th>1</th>\n",
       "      <td>yes</td>\n",
       "      <td>36</td>\n",
       "      <td>female</td>\n",
       "      <td>more</td>\n",
       "      <td>0.289916</td>\n",
       "      <td>3.7</td>\n",
       "      <td>upper</td>\n",
       "      <td>yes</td>\n",
       "      <td>yes</td>\n",
       "      <td>86</td>\n",
       "      <td>125</td>\n",
       "      <td>1</td>\n",
       "      <td>0</td>\n",
       "      <td>1</td>\n",
       "      <td>1</td>\n",
       "      <td>0</td>\n",
       "      <td>1</td>\n",
       "      <td>1</td>\n",
       "      <td>1</td>\n",
       "    </tr>\n",
       "    <tr>\n",
       "      <th>2</th>\n",
       "      <td>yes</td>\n",
       "      <td>36</td>\n",
       "      <td>female</td>\n",
       "      <td>more</td>\n",
       "      <td>0.289916</td>\n",
       "      <td>3.6</td>\n",
       "      <td>upper</td>\n",
       "      <td>yes</td>\n",
       "      <td>yes</td>\n",
       "      <td>76</td>\n",
       "      <td>125</td>\n",
       "      <td>1</td>\n",
       "      <td>0</td>\n",
       "      <td>1</td>\n",
       "      <td>1</td>\n",
       "      <td>0</td>\n",
       "      <td>1</td>\n",
       "      <td>1</td>\n",
       "      <td>1</td>\n",
       "    </tr>\n",
       "    <tr>\n",
       "      <th>3</th>\n",
       "      <td>yes</td>\n",
       "      <td>36</td>\n",
       "      <td>female</td>\n",
       "      <td>more</td>\n",
       "      <td>0.289916</td>\n",
       "      <td>4.4</td>\n",
       "      <td>upper</td>\n",
       "      <td>yes</td>\n",
       "      <td>yes</td>\n",
       "      <td>77</td>\n",
       "      <td>123</td>\n",
       "      <td>1</td>\n",
       "      <td>1</td>\n",
       "      <td>1</td>\n",
       "      <td>1</td>\n",
       "      <td>0</td>\n",
       "      <td>1</td>\n",
       "      <td>1</td>\n",
       "      <td>1</td>\n",
       "    </tr>\n",
       "    <tr>\n",
       "      <th>4</th>\n",
       "      <td>no</td>\n",
       "      <td>59</td>\n",
       "      <td>male</td>\n",
       "      <td>more</td>\n",
       "      <td>-0.737732</td>\n",
       "      <td>4.5</td>\n",
       "      <td>upper</td>\n",
       "      <td>yes</td>\n",
       "      <td>yes</td>\n",
       "      <td>17</td>\n",
       "      <td>20</td>\n",
       "      <td>2</td>\n",
       "      <td>0</td>\n",
       "      <td>0</td>\n",
       "      <td>0</td>\n",
       "      <td>0</td>\n",
       "      <td>1</td>\n",
       "      <td>1</td>\n",
       "      <td>1</td>\n",
       "    </tr>\n",
       "  </tbody>\n",
       "</table>\n",
       "</div>"
      ],
      "text/plain": [
       "  minority  age  gender credits    beauty  eval division native tenure  \\\n",
       "0      yes   36  female    more  0.289916   4.3    upper    yes    yes   \n",
       "1      yes   36  female    more  0.289916   3.7    upper    yes    yes   \n",
       "2      yes   36  female    more  0.289916   3.6    upper    yes    yes   \n",
       "3      yes   36  female    more  0.289916   4.4    upper    yes    yes   \n",
       "4       no   59    male    more -0.737732   4.5    upper    yes    yes   \n",
       "\n",
       "   students  allstudents  prof  PrimaryLast  vismin  female  single_credit  \\\n",
       "0        24           43     1            0       1       1              0   \n",
       "1        86          125     1            0       1       1              0   \n",
       "2        76          125     1            0       1       1              0   \n",
       "3        77          123     1            1       1       1              0   \n",
       "4        17           20     2            0       0       0              0   \n",
       "\n",
       "   upper_division  English_speaker  tenured_prof  \n",
       "0               1                1             1  \n",
       "1               1                1             1  \n",
       "2               1                1             1  \n",
       "3               1                1             1  \n",
       "4               1                1             1  "
      ]
     },
     "execution_count": 4,
     "metadata": {},
     "output_type": "execute_result"
    }
   ],
   "source": [
    "ratings_df.head()"
   ]
  },
  {
   "cell_type": "markdown",
   "metadata": {},
   "source": [
    "get information about each variable\n"
   ]
  },
  {
   "cell_type": "code",
   "execution_count": 5,
   "metadata": {
    "tags": []
   },
   "outputs": [
    {
     "name": "stdout",
     "output_type": "stream",
     "text": [
      "<class 'pandas.core.frame.DataFrame'>\n",
      "RangeIndex: 463 entries, 0 to 462\n",
      "Data columns (total 19 columns):\n",
      " #   Column           Non-Null Count  Dtype  \n",
      "---  ------           --------------  -----  \n",
      " 0   minority         463 non-null    object \n",
      " 1   age              463 non-null    int64  \n",
      " 2   gender           463 non-null    object \n",
      " 3   credits          463 non-null    object \n",
      " 4   beauty           463 non-null    float64\n",
      " 5   eval             463 non-null    float64\n",
      " 6   division         463 non-null    object \n",
      " 7   native           463 non-null    object \n",
      " 8   tenure           463 non-null    object \n",
      " 9   students         463 non-null    int64  \n",
      " 10  allstudents      463 non-null    int64  \n",
      " 11  prof             463 non-null    int64  \n",
      " 12  PrimaryLast      463 non-null    int64  \n",
      " 13  vismin           463 non-null    int64  \n",
      " 14  female           463 non-null    int64  \n",
      " 15  single_credit    463 non-null    int64  \n",
      " 16  upper_division   463 non-null    int64  \n",
      " 17  English_speaker  463 non-null    int64  \n",
      " 18  tenured_prof     463 non-null    int64  \n",
      "dtypes: float64(2), int64(11), object(6)\n",
      "memory usage: 68.9+ KB\n"
     ]
    }
   ],
   "source": [
    "ratings_df.info()"
   ]
  },
  {
   "cell_type": "markdown",
   "metadata": {},
   "source": [
    " get the number of rows and columns - prints as (number of rows, number of columns)\n"
   ]
  },
  {
   "cell_type": "code",
   "execution_count": 6,
   "metadata": {
    "tags": []
   },
   "outputs": [
    {
     "data": {
      "text/plain": [
       "(463, 19)"
      ]
     },
     "execution_count": 6,
     "metadata": {},
     "output_type": "execute_result"
    }
   ],
   "source": [
    "ratings_df.shape"
   ]
  },
  {
   "cell_type": "markdown",
   "metadata": {},
   "source": [
    "## Lab Exercises\n"
   ]
  },
  {
   "cell_type": "markdown",
   "metadata": {},
   "source": [
    "### Can you identify whether the teachers' Rating data is a time series or cross-sectional?\n"
   ]
  },
  {
   "cell_type": "markdown",
   "metadata": {},
   "source": [
    "Print out the first ten rows of the data\n",
    "1. Does it have a date or time variable? - No - it is not a time series dataset\n",
    "2. Does it observe more than one teacher being rated? - Yes - it is cross-sectional dataset\n",
    "> The dataset is a Cross-sectional\n"
   ]
  },
  {
   "cell_type": "code",
   "execution_count": 7,
   "metadata": {
    "tags": []
   },
   "outputs": [
    {
     "data": {
      "text/html": [
       "<div>\n",
       "<style scoped>\n",
       "    .dataframe tbody tr th:only-of-type {\n",
       "        vertical-align: middle;\n",
       "    }\n",
       "\n",
       "    .dataframe tbody tr th {\n",
       "        vertical-align: top;\n",
       "    }\n",
       "\n",
       "    .dataframe thead th {\n",
       "        text-align: right;\n",
       "    }\n",
       "</style>\n",
       "<table border=\"1\" class=\"dataframe\">\n",
       "  <thead>\n",
       "    <tr style=\"text-align: right;\">\n",
       "      <th></th>\n",
       "      <th>minority</th>\n",
       "      <th>age</th>\n",
       "      <th>gender</th>\n",
       "      <th>credits</th>\n",
       "      <th>beauty</th>\n",
       "      <th>eval</th>\n",
       "      <th>division</th>\n",
       "      <th>native</th>\n",
       "      <th>tenure</th>\n",
       "      <th>students</th>\n",
       "      <th>allstudents</th>\n",
       "      <th>prof</th>\n",
       "      <th>PrimaryLast</th>\n",
       "      <th>vismin</th>\n",
       "      <th>female</th>\n",
       "      <th>single_credit</th>\n",
       "      <th>upper_division</th>\n",
       "      <th>English_speaker</th>\n",
       "      <th>tenured_prof</th>\n",
       "    </tr>\n",
       "  </thead>\n",
       "  <tbody>\n",
       "    <tr>\n",
       "      <th>0</th>\n",
       "      <td>yes</td>\n",
       "      <td>36</td>\n",
       "      <td>female</td>\n",
       "      <td>more</td>\n",
       "      <td>0.289916</td>\n",
       "      <td>4.3</td>\n",
       "      <td>upper</td>\n",
       "      <td>yes</td>\n",
       "      <td>yes</td>\n",
       "      <td>24</td>\n",
       "      <td>43</td>\n",
       "      <td>1</td>\n",
       "      <td>0</td>\n",
       "      <td>1</td>\n",
       "      <td>1</td>\n",
       "      <td>0</td>\n",
       "      <td>1</td>\n",
       "      <td>1</td>\n",
       "      <td>1</td>\n",
       "    </tr>\n",
       "    <tr>\n",
       "      <th>1</th>\n",
       "      <td>yes</td>\n",
       "      <td>36</td>\n",
       "      <td>female</td>\n",
       "      <td>more</td>\n",
       "      <td>0.289916</td>\n",
       "      <td>3.7</td>\n",
       "      <td>upper</td>\n",
       "      <td>yes</td>\n",
       "      <td>yes</td>\n",
       "      <td>86</td>\n",
       "      <td>125</td>\n",
       "      <td>1</td>\n",
       "      <td>0</td>\n",
       "      <td>1</td>\n",
       "      <td>1</td>\n",
       "      <td>0</td>\n",
       "      <td>1</td>\n",
       "      <td>1</td>\n",
       "      <td>1</td>\n",
       "    </tr>\n",
       "    <tr>\n",
       "      <th>2</th>\n",
       "      <td>yes</td>\n",
       "      <td>36</td>\n",
       "      <td>female</td>\n",
       "      <td>more</td>\n",
       "      <td>0.289916</td>\n",
       "      <td>3.6</td>\n",
       "      <td>upper</td>\n",
       "      <td>yes</td>\n",
       "      <td>yes</td>\n",
       "      <td>76</td>\n",
       "      <td>125</td>\n",
       "      <td>1</td>\n",
       "      <td>0</td>\n",
       "      <td>1</td>\n",
       "      <td>1</td>\n",
       "      <td>0</td>\n",
       "      <td>1</td>\n",
       "      <td>1</td>\n",
       "      <td>1</td>\n",
       "    </tr>\n",
       "    <tr>\n",
       "      <th>3</th>\n",
       "      <td>yes</td>\n",
       "      <td>36</td>\n",
       "      <td>female</td>\n",
       "      <td>more</td>\n",
       "      <td>0.289916</td>\n",
       "      <td>4.4</td>\n",
       "      <td>upper</td>\n",
       "      <td>yes</td>\n",
       "      <td>yes</td>\n",
       "      <td>77</td>\n",
       "      <td>123</td>\n",
       "      <td>1</td>\n",
       "      <td>1</td>\n",
       "      <td>1</td>\n",
       "      <td>1</td>\n",
       "      <td>0</td>\n",
       "      <td>1</td>\n",
       "      <td>1</td>\n",
       "      <td>1</td>\n",
       "    </tr>\n",
       "    <tr>\n",
       "      <th>4</th>\n",
       "      <td>no</td>\n",
       "      <td>59</td>\n",
       "      <td>male</td>\n",
       "      <td>more</td>\n",
       "      <td>-0.737732</td>\n",
       "      <td>4.5</td>\n",
       "      <td>upper</td>\n",
       "      <td>yes</td>\n",
       "      <td>yes</td>\n",
       "      <td>17</td>\n",
       "      <td>20</td>\n",
       "      <td>2</td>\n",
       "      <td>0</td>\n",
       "      <td>0</td>\n",
       "      <td>0</td>\n",
       "      <td>0</td>\n",
       "      <td>1</td>\n",
       "      <td>1</td>\n",
       "      <td>1</td>\n",
       "    </tr>\n",
       "    <tr>\n",
       "      <th>5</th>\n",
       "      <td>no</td>\n",
       "      <td>59</td>\n",
       "      <td>male</td>\n",
       "      <td>more</td>\n",
       "      <td>-0.737732</td>\n",
       "      <td>4.0</td>\n",
       "      <td>upper</td>\n",
       "      <td>yes</td>\n",
       "      <td>yes</td>\n",
       "      <td>35</td>\n",
       "      <td>40</td>\n",
       "      <td>2</td>\n",
       "      <td>0</td>\n",
       "      <td>0</td>\n",
       "      <td>0</td>\n",
       "      <td>0</td>\n",
       "      <td>1</td>\n",
       "      <td>1</td>\n",
       "      <td>1</td>\n",
       "    </tr>\n",
       "    <tr>\n",
       "      <th>6</th>\n",
       "      <td>no</td>\n",
       "      <td>59</td>\n",
       "      <td>male</td>\n",
       "      <td>more</td>\n",
       "      <td>-0.737732</td>\n",
       "      <td>2.1</td>\n",
       "      <td>upper</td>\n",
       "      <td>yes</td>\n",
       "      <td>yes</td>\n",
       "      <td>39</td>\n",
       "      <td>44</td>\n",
       "      <td>2</td>\n",
       "      <td>1</td>\n",
       "      <td>0</td>\n",
       "      <td>0</td>\n",
       "      <td>0</td>\n",
       "      <td>1</td>\n",
       "      <td>1</td>\n",
       "      <td>1</td>\n",
       "    </tr>\n",
       "    <tr>\n",
       "      <th>7</th>\n",
       "      <td>no</td>\n",
       "      <td>51</td>\n",
       "      <td>male</td>\n",
       "      <td>more</td>\n",
       "      <td>-0.571984</td>\n",
       "      <td>3.7</td>\n",
       "      <td>upper</td>\n",
       "      <td>yes</td>\n",
       "      <td>yes</td>\n",
       "      <td>55</td>\n",
       "      <td>55</td>\n",
       "      <td>3</td>\n",
       "      <td>0</td>\n",
       "      <td>0</td>\n",
       "      <td>0</td>\n",
       "      <td>0</td>\n",
       "      <td>1</td>\n",
       "      <td>1</td>\n",
       "      <td>1</td>\n",
       "    </tr>\n",
       "    <tr>\n",
       "      <th>8</th>\n",
       "      <td>no</td>\n",
       "      <td>51</td>\n",
       "      <td>male</td>\n",
       "      <td>more</td>\n",
       "      <td>-0.571984</td>\n",
       "      <td>3.2</td>\n",
       "      <td>upper</td>\n",
       "      <td>yes</td>\n",
       "      <td>yes</td>\n",
       "      <td>111</td>\n",
       "      <td>195</td>\n",
       "      <td>3</td>\n",
       "      <td>1</td>\n",
       "      <td>0</td>\n",
       "      <td>0</td>\n",
       "      <td>0</td>\n",
       "      <td>1</td>\n",
       "      <td>1</td>\n",
       "      <td>1</td>\n",
       "    </tr>\n",
       "    <tr>\n",
       "      <th>9</th>\n",
       "      <td>no</td>\n",
       "      <td>40</td>\n",
       "      <td>female</td>\n",
       "      <td>more</td>\n",
       "      <td>-0.677963</td>\n",
       "      <td>4.3</td>\n",
       "      <td>upper</td>\n",
       "      <td>yes</td>\n",
       "      <td>yes</td>\n",
       "      <td>40</td>\n",
       "      <td>46</td>\n",
       "      <td>4</td>\n",
       "      <td>0</td>\n",
       "      <td>0</td>\n",
       "      <td>1</td>\n",
       "      <td>0</td>\n",
       "      <td>1</td>\n",
       "      <td>1</td>\n",
       "      <td>1</td>\n",
       "    </tr>\n",
       "  </tbody>\n",
       "</table>\n",
       "</div>"
      ],
      "text/plain": [
       "  minority  age  gender credits    beauty  eval division native tenure  \\\n",
       "0      yes   36  female    more  0.289916   4.3    upper    yes    yes   \n",
       "1      yes   36  female    more  0.289916   3.7    upper    yes    yes   \n",
       "2      yes   36  female    more  0.289916   3.6    upper    yes    yes   \n",
       "3      yes   36  female    more  0.289916   4.4    upper    yes    yes   \n",
       "4       no   59    male    more -0.737732   4.5    upper    yes    yes   \n",
       "5       no   59    male    more -0.737732   4.0    upper    yes    yes   \n",
       "6       no   59    male    more -0.737732   2.1    upper    yes    yes   \n",
       "7       no   51    male    more -0.571984   3.7    upper    yes    yes   \n",
       "8       no   51    male    more -0.571984   3.2    upper    yes    yes   \n",
       "9       no   40  female    more -0.677963   4.3    upper    yes    yes   \n",
       "\n",
       "   students  allstudents  prof  PrimaryLast  vismin  female  single_credit  \\\n",
       "0        24           43     1            0       1       1              0   \n",
       "1        86          125     1            0       1       1              0   \n",
       "2        76          125     1            0       1       1              0   \n",
       "3        77          123     1            1       1       1              0   \n",
       "4        17           20     2            0       0       0              0   \n",
       "5        35           40     2            0       0       0              0   \n",
       "6        39           44     2            1       0       0              0   \n",
       "7        55           55     3            0       0       0              0   \n",
       "8       111          195     3            1       0       0              0   \n",
       "9        40           46     4            0       0       1              0   \n",
       "\n",
       "   upper_division  English_speaker  tenured_prof  \n",
       "0               1                1             1  \n",
       "1               1                1             1  \n",
       "2               1                1             1  \n",
       "3               1                1             1  \n",
       "4               1                1             1  \n",
       "5               1                1             1  \n",
       "6               1                1             1  \n",
       "7               1                1             1  \n",
       "8               1                1             1  \n",
       "9               1                1             1  "
      ]
     },
     "execution_count": 7,
     "metadata": {},
     "output_type": "execute_result"
    }
   ],
   "source": [
    "ratings_df.head(10)"
   ]
  },
  {
   "cell_type": "markdown",
   "metadata": {},
   "source": [
    "### Find the mean, median, minimum, and maximum values for students\n"
   ]
  },
  {
   "cell_type": "markdown",
   "metadata": {},
   "source": [
    "Find Mean value for students\n"
   ]
  },
  {
   "cell_type": "code",
   "execution_count": 8,
   "metadata": {
    "tags": []
   },
   "outputs": [
    {
     "data": {
      "text/plain": [
       "36.62419006479482"
      ]
     },
     "execution_count": 8,
     "metadata": {},
     "output_type": "execute_result"
    }
   ],
   "source": [
    "ratings_df['students'].mean()"
   ]
  },
  {
   "cell_type": "markdown",
   "metadata": {},
   "source": [
    "Find the Median value for students\n"
   ]
  },
  {
   "cell_type": "code",
   "execution_count": 9,
   "metadata": {
    "tags": []
   },
   "outputs": [
    {
     "data": {
      "text/plain": [
       "23.0"
      ]
     },
     "execution_count": 9,
     "metadata": {},
     "output_type": "execute_result"
    }
   ],
   "source": [
    "ratings_df['students'].median()"
   ]
  },
  {
   "cell_type": "markdown",
   "metadata": {},
   "source": [
    "Find the Minimum value for students\n"
   ]
  },
  {
   "cell_type": "code",
   "execution_count": 10,
   "metadata": {
    "tags": []
   },
   "outputs": [
    {
     "data": {
      "text/plain": [
       "5"
      ]
     },
     "execution_count": 10,
     "metadata": {},
     "output_type": "execute_result"
    }
   ],
   "source": [
    "ratings_df['students'].min()"
   ]
  },
  {
   "cell_type": "markdown",
   "metadata": {},
   "source": [
    "Find the Maximum value for students\n"
   ]
  },
  {
   "cell_type": "code",
   "execution_count": 11,
   "metadata": {
    "tags": []
   },
   "outputs": [
    {
     "data": {
      "text/plain": [
       "380"
      ]
     },
     "execution_count": 11,
     "metadata": {},
     "output_type": "execute_result"
    }
   ],
   "source": [
    "ratings_df['students'].max()"
   ]
  },
  {
   "cell_type": "markdown",
   "metadata": {},
   "source": [
    "### Produce a descriptive statistics table\n"
   ]
  },
  {
   "cell_type": "code",
   "execution_count": 12,
   "metadata": {
    "tags": []
   },
   "outputs": [
    {
     "data": {
      "text/html": [
       "<div>\n",
       "<style scoped>\n",
       "    .dataframe tbody tr th:only-of-type {\n",
       "        vertical-align: middle;\n",
       "    }\n",
       "\n",
       "    .dataframe tbody tr th {\n",
       "        vertical-align: top;\n",
       "    }\n",
       "\n",
       "    .dataframe thead th {\n",
       "        text-align: right;\n",
       "    }\n",
       "</style>\n",
       "<table border=\"1\" class=\"dataframe\">\n",
       "  <thead>\n",
       "    <tr style=\"text-align: right;\">\n",
       "      <th></th>\n",
       "      <th>age</th>\n",
       "      <th>beauty</th>\n",
       "      <th>eval</th>\n",
       "      <th>students</th>\n",
       "      <th>allstudents</th>\n",
       "      <th>prof</th>\n",
       "      <th>PrimaryLast</th>\n",
       "      <th>vismin</th>\n",
       "      <th>female</th>\n",
       "      <th>single_credit</th>\n",
       "      <th>upper_division</th>\n",
       "      <th>English_speaker</th>\n",
       "      <th>tenured_prof</th>\n",
       "    </tr>\n",
       "  </thead>\n",
       "  <tbody>\n",
       "    <tr>\n",
       "      <th>count</th>\n",
       "      <td>463.000000</td>\n",
       "      <td>4.630000e+02</td>\n",
       "      <td>463.000000</td>\n",
       "      <td>463.000000</td>\n",
       "      <td>463.000000</td>\n",
       "      <td>463.000000</td>\n",
       "      <td>463.000000</td>\n",
       "      <td>463.000000</td>\n",
       "      <td>463.000000</td>\n",
       "      <td>463.000000</td>\n",
       "      <td>463.000000</td>\n",
       "      <td>463.000000</td>\n",
       "      <td>463.000000</td>\n",
       "    </tr>\n",
       "    <tr>\n",
       "      <th>mean</th>\n",
       "      <td>48.365011</td>\n",
       "      <td>6.271140e-08</td>\n",
       "      <td>3.998272</td>\n",
       "      <td>36.624190</td>\n",
       "      <td>55.177106</td>\n",
       "      <td>45.434125</td>\n",
       "      <td>0.203024</td>\n",
       "      <td>0.138229</td>\n",
       "      <td>0.421166</td>\n",
       "      <td>0.058315</td>\n",
       "      <td>0.660907</td>\n",
       "      <td>0.939525</td>\n",
       "      <td>0.779698</td>\n",
       "    </tr>\n",
       "    <tr>\n",
       "      <th>std</th>\n",
       "      <td>9.802742</td>\n",
       "      <td>7.886477e-01</td>\n",
       "      <td>0.554866</td>\n",
       "      <td>45.018481</td>\n",
       "      <td>75.072800</td>\n",
       "      <td>27.508902</td>\n",
       "      <td>0.402685</td>\n",
       "      <td>0.345513</td>\n",
       "      <td>0.494280</td>\n",
       "      <td>0.234592</td>\n",
       "      <td>0.473913</td>\n",
       "      <td>0.238623</td>\n",
       "      <td>0.414899</td>\n",
       "    </tr>\n",
       "    <tr>\n",
       "      <th>min</th>\n",
       "      <td>29.000000</td>\n",
       "      <td>-1.450494e+00</td>\n",
       "      <td>2.100000</td>\n",
       "      <td>5.000000</td>\n",
       "      <td>8.000000</td>\n",
       "      <td>1.000000</td>\n",
       "      <td>0.000000</td>\n",
       "      <td>0.000000</td>\n",
       "      <td>0.000000</td>\n",
       "      <td>0.000000</td>\n",
       "      <td>0.000000</td>\n",
       "      <td>0.000000</td>\n",
       "      <td>0.000000</td>\n",
       "    </tr>\n",
       "    <tr>\n",
       "      <th>25%</th>\n",
       "      <td>42.000000</td>\n",
       "      <td>-6.562689e-01</td>\n",
       "      <td>3.600000</td>\n",
       "      <td>15.000000</td>\n",
       "      <td>19.000000</td>\n",
       "      <td>20.000000</td>\n",
       "      <td>0.000000</td>\n",
       "      <td>0.000000</td>\n",
       "      <td>0.000000</td>\n",
       "      <td>0.000000</td>\n",
       "      <td>0.000000</td>\n",
       "      <td>1.000000</td>\n",
       "      <td>1.000000</td>\n",
       "    </tr>\n",
       "    <tr>\n",
       "      <th>50%</th>\n",
       "      <td>48.000000</td>\n",
       "      <td>-6.801430e-02</td>\n",
       "      <td>4.000000</td>\n",
       "      <td>23.000000</td>\n",
       "      <td>29.000000</td>\n",
       "      <td>44.000000</td>\n",
       "      <td>0.000000</td>\n",
       "      <td>0.000000</td>\n",
       "      <td>0.000000</td>\n",
       "      <td>0.000000</td>\n",
       "      <td>1.000000</td>\n",
       "      <td>1.000000</td>\n",
       "      <td>1.000000</td>\n",
       "    </tr>\n",
       "    <tr>\n",
       "      <th>75%</th>\n",
       "      <td>57.000000</td>\n",
       "      <td>5.456024e-01</td>\n",
       "      <td>4.400000</td>\n",
       "      <td>40.000000</td>\n",
       "      <td>60.000000</td>\n",
       "      <td>70.500000</td>\n",
       "      <td>0.000000</td>\n",
       "      <td>0.000000</td>\n",
       "      <td>1.000000</td>\n",
       "      <td>0.000000</td>\n",
       "      <td>1.000000</td>\n",
       "      <td>1.000000</td>\n",
       "      <td>1.000000</td>\n",
       "    </tr>\n",
       "    <tr>\n",
       "      <th>max</th>\n",
       "      <td>73.000000</td>\n",
       "      <td>1.970023e+00</td>\n",
       "      <td>5.000000</td>\n",
       "      <td>380.000000</td>\n",
       "      <td>581.000000</td>\n",
       "      <td>94.000000</td>\n",
       "      <td>1.000000</td>\n",
       "      <td>1.000000</td>\n",
       "      <td>1.000000</td>\n",
       "      <td>1.000000</td>\n",
       "      <td>1.000000</td>\n",
       "      <td>1.000000</td>\n",
       "      <td>1.000000</td>\n",
       "    </tr>\n",
       "  </tbody>\n",
       "</table>\n",
       "</div>"
      ],
      "text/plain": [
       "              age        beauty        eval    students  allstudents  \\\n",
       "count  463.000000  4.630000e+02  463.000000  463.000000   463.000000   \n",
       "mean    48.365011  6.271140e-08    3.998272   36.624190    55.177106   \n",
       "std      9.802742  7.886477e-01    0.554866   45.018481    75.072800   \n",
       "min     29.000000 -1.450494e+00    2.100000    5.000000     8.000000   \n",
       "25%     42.000000 -6.562689e-01    3.600000   15.000000    19.000000   \n",
       "50%     48.000000 -6.801430e-02    4.000000   23.000000    29.000000   \n",
       "75%     57.000000  5.456024e-01    4.400000   40.000000    60.000000   \n",
       "max     73.000000  1.970023e+00    5.000000  380.000000   581.000000   \n",
       "\n",
       "             prof  PrimaryLast      vismin      female  single_credit  \\\n",
       "count  463.000000   463.000000  463.000000  463.000000     463.000000   \n",
       "mean    45.434125     0.203024    0.138229    0.421166       0.058315   \n",
       "std     27.508902     0.402685    0.345513    0.494280       0.234592   \n",
       "min      1.000000     0.000000    0.000000    0.000000       0.000000   \n",
       "25%     20.000000     0.000000    0.000000    0.000000       0.000000   \n",
       "50%     44.000000     0.000000    0.000000    0.000000       0.000000   \n",
       "75%     70.500000     0.000000    0.000000    1.000000       0.000000   \n",
       "max     94.000000     1.000000    1.000000    1.000000       1.000000   \n",
       "\n",
       "       upper_division  English_speaker  tenured_prof  \n",
       "count      463.000000       463.000000    463.000000  \n",
       "mean         0.660907         0.939525      0.779698  \n",
       "std          0.473913         0.238623      0.414899  \n",
       "min          0.000000         0.000000      0.000000  \n",
       "25%          0.000000         1.000000      1.000000  \n",
       "50%          1.000000         1.000000      1.000000  \n",
       "75%          1.000000         1.000000      1.000000  \n",
       "max          1.000000         1.000000      1.000000  "
      ]
     },
     "execution_count": 12,
     "metadata": {},
     "output_type": "execute_result"
    }
   ],
   "source": [
    "ratings_df.describe()"
   ]
  },
  {
   "cell_type": "markdown",
   "metadata": {},
   "source": [
    "### Create a histogram of the beauty variable and briefly comment on the distribution of data\n"
   ]
  },
  {
   "cell_type": "markdown",
   "metadata": {},
   "source": [
    "using the <code>matplotlib</code> library, create a histogram\n"
   ]
  },
  {
   "cell_type": "code",
   "execution_count": 13,
   "metadata": {
    "tags": []
   },
   "outputs": [
    {
     "data": {
      "text/plain": [
       "(array([16., 51., 94., 66., 94., 42., 29., 40., 11., 20.]),\n",
       " array([-1.45049405, -1.10844234, -0.76639063, -0.42433892, -0.08228722,\n",
       "         0.25976449,  0.6018162 ,  0.94386791,  1.28591962,  1.62797133,\n",
       "         1.97002304]),\n",
       " <BarContainer object of 10 artists>)"
      ]
     },
     "execution_count": 13,
     "metadata": {},
     "output_type": "execute_result"
    },
    {
     "data": {
      "image/png": "[encoded data removed]",
      "text/plain": [
       "<Figure size 640x480 with 1 Axes>"
      ]
     },
     "metadata": {},
     "output_type": "display_data"
    }
   ],
   "source": [
    "pyplot.hist(ratings_df['beauty'])"
   ]
  },
  {
   "cell_type": "markdown",
   "metadata": {},
   "source": [
    " here are few conclusions from the histogram\n",
    " most of the data for beauty is around the -0.5 and 0\n",
    " the distribution is skewed to the right\n",
    " therefore looking at the data we can say the mean is close to 0\n"
   ]
  },
  {
   "cell_type": "markdown",
   "metadata": {},
   "source": [
    "### Does average beauty score differ by gender? Produce the means and standard deviations for both male and female instructors.\n"
   ]
  },
  {
   "cell_type": "markdown",
   "metadata": {},
   "source": [
    "Use a group by gender to view the mean scores of the beauty we can say that beauty scores differ by gender as the mean beauty score for women is higher than men\n"
   ]
  },
  {
   "cell_type": "code",
   "execution_count": 14,
   "metadata": {
    "tags": []
   },
   "outputs": [
    {
     "data": {
      "text/html": [
       "<div>\n",
       "<style scoped>\n",
       "    .dataframe tbody tr th:only-of-type {\n",
       "        vertical-align: middle;\n",
       "    }\n",
       "\n",
       "    .dataframe tbody tr th {\n",
       "        vertical-align: top;\n",
       "    }\n",
       "\n",
       "    .dataframe thead tr th {\n",
       "        text-align: left;\n",
       "    }\n",
       "</style>\n",
       "<table border=\"1\" class=\"dataframe\">\n",
       "  <thead>\n",
       "    <tr>\n",
       "      <th></th>\n",
       "      <th>gender</th>\n",
       "      <th colspan=\"3\" halign=\"left\">beauty</th>\n",
       "    </tr>\n",
       "    <tr>\n",
       "      <th></th>\n",
       "      <th></th>\n",
       "      <th>mean</th>\n",
       "      <th>std</th>\n",
       "      <th>var</th>\n",
       "    </tr>\n",
       "  </thead>\n",
       "  <tbody>\n",
       "    <tr>\n",
       "      <th>0</th>\n",
       "      <td>female</td>\n",
       "      <td>0.116109</td>\n",
       "      <td>0.81781</td>\n",
       "      <td>0.668813</td>\n",
       "    </tr>\n",
       "    <tr>\n",
       "      <th>1</th>\n",
       "      <td>male</td>\n",
       "      <td>-0.084482</td>\n",
       "      <td>0.75713</td>\n",
       "      <td>0.573246</td>\n",
       "    </tr>\n",
       "  </tbody>\n",
       "</table>\n",
       "</div>"
      ],
      "text/plain": [
       "   gender    beauty                   \n",
       "               mean      std       var\n",
       "0  female  0.116109  0.81781  0.668813\n",
       "1    male -0.084482  0.75713  0.573246"
      ]
     },
     "execution_count": 14,
     "metadata": {},
     "output_type": "execute_result"
    }
   ],
   "source": [
    "ratings_df.groupby('gender').agg({'beauty':['mean', 'std', 'var']}).reset_index()"
   ]
  },
  {
   "cell_type": "markdown",
   "metadata": {},
   "source": [
    "### Calculate the percentage of males and females that are tenured professors. Will you say that tenure status differ by gender?\n"
   ]
  },
  {
   "cell_type": "markdown",
   "metadata": {},
   "source": [
    "First groupby to get the total sum\n"
   ]
  },
  {
   "cell_type": "code",
   "execution_count": 15,
   "metadata": {
    "tags": []
   },
   "outputs": [],
   "source": [
    "tenure_count = ratings_df[ratings_df.tenure == 'yes'].groupby('gender').agg({'tenure': 'count'}).reset_index()"
   ]
  },
  {
   "cell_type": "markdown",
   "metadata": {},
   "source": [
    "Find the percentage\n"
   ]
  },
  {
   "cell_type": "code",
   "execution_count": 16,
   "metadata": {
    "tags": []
   },
   "outputs": [
    {
     "data": {
      "text/html": [
       "<div>\n",
       "<style scoped>\n",
       "    .dataframe tbody tr th:only-of-type {\n",
       "        vertical-align: middle;\n",
       "    }\n",
       "\n",
       "    .dataframe tbody tr th {\n",
       "        vertical-align: top;\n",
       "    }\n",
       "\n",
       "    .dataframe thead th {\n",
       "        text-align: right;\n",
       "    }\n",
       "</style>\n",
       "<table border=\"1\" class=\"dataframe\">\n",
       "  <thead>\n",
       "    <tr style=\"text-align: right;\">\n",
       "      <th></th>\n",
       "      <th>gender</th>\n",
       "      <th>tenure</th>\n",
       "      <th>percentage</th>\n",
       "    </tr>\n",
       "  </thead>\n",
       "  <tbody>\n",
       "    <tr>\n",
       "      <th>0</th>\n",
       "      <td>female</td>\n",
       "      <td>145</td>\n",
       "      <td>40.166205</td>\n",
       "    </tr>\n",
       "    <tr>\n",
       "      <th>1</th>\n",
       "      <td>male</td>\n",
       "      <td>216</td>\n",
       "      <td>59.833795</td>\n",
       "    </tr>\n",
       "  </tbody>\n",
       "</table>\n",
       "</div>"
      ],
      "text/plain": [
       "   gender  tenure  percentage\n",
       "0  female     145   40.166205\n",
       "1    male     216   59.833795"
      ]
     },
     "execution_count": 16,
     "metadata": {},
     "output_type": "execute_result"
    }
   ],
   "source": [
    "tenure_count['percentage'] = 100 * tenure_count.tenure/tenure_count.tenure.sum()\n",
    "tenure_count"
   ]
  },
  {
   "cell_type": "markdown",
   "metadata": {},
   "source": [
    "## Practice Questions\n"
   ]
  },
  {
   "cell_type": "markdown",
   "metadata": {},
   "source": [
    "###  Question 1: Calculate the percentage of visible minorities are tenure professors. Will you say that tenure status differed if teacher was a visible minority?\n"
   ]
  },
  {
   "cell_type": "code",
   "execution_count": 17,
   "metadata": {
    "tags": []
   },
   "outputs": [
    {
     "data": {
      "text/html": [
       "<div>\n",
       "<style scoped>\n",
       "    .dataframe tbody tr th:only-of-type {\n",
       "        vertical-align: middle;\n",
       "    }\n",
       "\n",
       "    .dataframe tbody tr th {\n",
       "        vertical-align: top;\n",
       "    }\n",
       "\n",
       "    .dataframe thead th {\n",
       "        text-align: right;\n",
       "    }\n",
       "</style>\n",
       "<table border=\"1\" class=\"dataframe\">\n",
       "  <thead>\n",
       "    <tr style=\"text-align: right;\">\n",
       "      <th></th>\n",
       "      <th>tenure</th>\n",
       "      <th>percentage</th>\n",
       "    </tr>\n",
       "    <tr>\n",
       "      <th>vismin</th>\n",
       "      <th></th>\n",
       "      <th></th>\n",
       "    </tr>\n",
       "  </thead>\n",
       "  <tbody>\n",
       "    <tr>\n",
       "      <th>0</th>\n",
       "      <td>307</td>\n",
       "      <td>85.041551</td>\n",
       "    </tr>\n",
       "    <tr>\n",
       "      <th>1</th>\n",
       "      <td>54</td>\n",
       "      <td>14.958449</td>\n",
       "    </tr>\n",
       "  </tbody>\n",
       "</table>\n",
       "</div>"
      ],
      "text/plain": [
       "        tenure  percentage\n",
       "vismin                    \n",
       "0          307   85.041551\n",
       "1           54   14.958449"
      ]
     },
     "execution_count": 17,
     "metadata": {},
     "output_type": "execute_result"
    }
   ],
   "source": [
    "tenure_count = ratings_df[ratings_df[\"tenure\"]==\"yes\"].groupby(\"vismin\").agg({\"tenure\":\"count\"})\n",
    "tenure_count[\"percentage\"] = 100*(tenure_count[\"tenure\"]/tenure_count[\"tenure\"].sum())\n",
    "tenure_count"
   ]
  },
  {
   "cell_type": "markdown",
   "metadata": {},
   "source": [
    "Double-click **here** for the solution.\n",
    "\n",
    "<!-- The answer is below:\n",
    "### we can use a groupby function for this\n",
    "## first groupby to get the total sum\n",
    "tenure_count = ratings_df.groupby('minority').agg({'tenure': 'count'}).reset_index()\n",
    "# Find the percentage\n",
    "tenure_count['percentage'] = 100 * tenure_count.tenure/tenure_count.tenure.sum()\n",
    "##print to see\n",
    "tenure_count\n",
    "-->\n"
   ]
  },
  {
   "cell_type": "markdown",
   "metadata": {},
   "source": [
    "### Question 2: Does average age differ by tenure? Produce the means and standard deviations for both tenured and untenured professors.\n"
   ]
  },
  {
   "cell_type": "code",
   "execution_count": 18,
   "metadata": {
    "tags": []
   },
   "outputs": [
    {
     "data": {
      "text/html": [
       "<div>\n",
       "<style scoped>\n",
       "    .dataframe tbody tr th:only-of-type {\n",
       "        vertical-align: middle;\n",
       "    }\n",
       "\n",
       "    .dataframe tbody tr th {\n",
       "        vertical-align: top;\n",
       "    }\n",
       "\n",
       "    .dataframe thead tr th {\n",
       "        text-align: left;\n",
       "    }\n",
       "\n",
       "    .dataframe thead tr:last-of-type th {\n",
       "        text-align: right;\n",
       "    }\n",
       "</style>\n",
       "<table border=\"1\" class=\"dataframe\">\n",
       "  <thead>\n",
       "    <tr>\n",
       "      <th></th>\n",
       "      <th colspan=\"2\" halign=\"left\">age</th>\n",
       "    </tr>\n",
       "    <tr>\n",
       "      <th></th>\n",
       "      <th>mean</th>\n",
       "      <th>std</th>\n",
       "    </tr>\n",
       "    <tr>\n",
       "      <th>tenure</th>\n",
       "      <th></th>\n",
       "      <th></th>\n",
       "    </tr>\n",
       "  </thead>\n",
       "  <tbody>\n",
       "    <tr>\n",
       "      <th>no</th>\n",
       "      <td>50.186275</td>\n",
       "      <td>6.946372</td>\n",
       "    </tr>\n",
       "    <tr>\n",
       "      <th>yes</th>\n",
       "      <td>47.850416</td>\n",
       "      <td>10.420056</td>\n",
       "    </tr>\n",
       "  </tbody>\n",
       "</table>\n",
       "</div>"
      ],
      "text/plain": [
       "              age           \n",
       "             mean        std\n",
       "tenure                      \n",
       "no      50.186275   6.946372\n",
       "yes     47.850416  10.420056"
      ]
     },
     "execution_count": 18,
     "metadata": {},
     "output_type": "execute_result"
    }
   ],
   "source": [
    "ratings_df.groupby(\"tenure\").agg({\"age\":[\"mean\", \"std\"]})\n"
   ]
  },
  {
   "cell_type": "markdown",
   "metadata": {},
   "source": [
    "Double-click **here** for the solution.\n",
    "\n",
    "<!-- The answer is below:\n",
    "## group by tenureship and find the mean and standard deviation for each group\n",
    "ratings_df.groupby('tenure').agg({'age':['mean', 'std']}).reset_index()\n",
    "-->\n"
   ]
  },
  {
   "cell_type": "markdown",
   "metadata": {},
   "source": [
    "###  Question 3: Create a histogram for the age variable.\n"
   ]
  },
  {
   "cell_type": "code",
   "execution_count": 19,
   "metadata": {
    "tags": []
   },
   "outputs": [
    {
     "data": {
      "image/png": "[encoded data removed]",
      "text/plain": [
       "<Figure size 1000x600 with 1 Axes>"
      ]
     },
     "metadata": {},
     "output_type": "display_data"
    }
   ],
   "source": [
    "pyplot.figure(figsize=(10,6))\n",
    "pyplot.hist(ratings_df[\"age\"], color=\"red\")\n",
    "pyplot.title(\"Histogram of Age Variable\")\n",
    "pyplot.xlabel(\"Age\")\n",
    "pyplot.show()\n"
   ]
  },
  {
   "cell_type": "markdown",
   "metadata": {},
   "source": [
    "Double-click **here** for the solution.\n",
    "\n",
    "<!-- The answer is below:\n",
    "pyplot.hist(ratings_df['age'])\n",
    "-->\n"
   ]
  },
  {
   "cell_type": "markdown",
   "metadata": {},
   "source": [
    "###  Question 4: Create a bar plot for the gender variable.\n"
   ]
  },
  {
   "cell_type": "code",
   "execution_count": 20,
   "metadata": {
    "tags": []
   },
   "outputs": [
    {
     "data": {
      "image/png": "[encoded data removed]",
      "text/plain": [
       "<Figure size 1000x600 with 1 Axes>"
      ]
     },
     "metadata": {},
     "output_type": "display_data"
    }
   ],
   "source": [
    "pyplot.figure(figsize=(10,6))\n",
    "pyplot.bar(ratings_df[\"gender\"].unique(), ratings_df[\"gender\"].value_counts(), color=\"purple\")\n",
    "pyplot.title(\"Gender Distribution Bar Plot\")\n",
    "pyplot.xlabel(\"Gender\")\n",
    "pyplot.ylabel(\"Counts\")\n",
    "pyplot.show()\n",
    "\n"
   ]
  },
  {
   "cell_type": "markdown",
   "metadata": {},
   "source": [
    "Double-click **here** for the solution.\n",
    "\n",
    "<!-- The answer is below:\n",
    "pyplot.bar(ratings_df.gender.unique(),ratings_df.gender.value_counts(),color=['pink','blue'])\n",
    "pyplot.xlabel('Gender')\n",
    "pyplot.ylabel('Count')\n",
    "pyplot.title('Gender distribution bar plot')\n",
    "-->\n"
   ]
  },
  {
   "cell_type": "markdown",
   "metadata": {},
   "source": [
    "> Note:Bar plot can be rendered vertically or horizontally. Try to replace **pyplot.bar** with **pyplot.barh** in the above cell and see the difference.\n"
   ]
  },
  {
   "cell_type": "markdown",
   "metadata": {},
   "source": [
    "### Question 5: What is the Median evaluation score for tenured Professors?\n"
   ]
  },
  {
   "cell_type": "code",
   "execution_count": 21,
   "metadata": {
    "tags": []
   },
   "outputs": [
    {
     "data": {
      "text/plain": [
       "4.0"
      ]
     },
     "execution_count": 21,
     "metadata": {},
     "output_type": "execute_result"
    }
   ],
   "source": [
    "tenure_eval_median = ratings_df[ratings_df[\"tenure\"] == \"yes\"][\"eval\"].median()\n",
    "tenure_eval_median"
   ]
  },
  {
   "cell_type": "markdown",
   "metadata": {},
   "source": [
    "Double-click **here** for the solution.\n",
    "\n",
    "<!-- The answer is below:\n",
    "## you can index just tenured professors and find their median evaluation scores\n",
    "ratings_df[ratings_df['tenure'] == 'yes']['eval'].median()\n",
    "-->\n"
   ]
  },
  {
   "cell_type": "markdown",
   "metadata": {},
   "source": [
    "## Authors\n"
   ]
  },
  {
   "cell_type": "markdown",
   "metadata": {},
   "source": [
    "[Aije Egwaikhide](https://www.linkedin.com/in/aije-egwaikhide/?utm_medium=Exinfluencer&utm_source=Exinfluencer&utm_content=000026UJ&utm_term=10006555&utm_id=NA-SkillsNetwork-Channel-SkillsNetworkCoursesIBMDeveloperSkillsNetworkST0151ENSkillsNetwork956-2022-01-01) is a Data Scientist at IBM who holds a degree in Economics and Statistics from the University of Manitoba and a Post-grad in Business Analytics from St. Lawrence College, Kingston. She is a current employee of IBM where she started as a Junior Data Scientist at the Global Business Services (GBS) in 2018. Her main role was making meaning out of data for their Oil and Gas clients through basic statistics and advanced Machine Learning algorithms. The highlight of her time in GBS was creating a customized end-to-end Machine learning and Statistics solution on optimizing operations in the Oil and Gas wells. She moved to the Cognitive Systems Group as a Senior Data Scientist where she will be providing the team with actionable insights using Data Science techniques and further improve processes through building machine learning solutions. She recently joined the IBM Developer Skills Network group where she brings her real-world experience to the courses she creates.\n"
   ]
  },
  {
   "cell_type": "markdown",
   "metadata": {},
   "source": [
    "## Change Log\n"
   ]
  },
  {
   "cell_type": "markdown",
   "metadata": {},
   "source": [
    "|  Date (YYYY-MM-DD) |  Version | Changed By  |  Change Description |\n",
    "|---|---|---|---|\n",
    "| 2020-08-14  | 0.1  | Aije Egwaikhide  |  Created the initial version of the lab |\n",
    "| 2022-05-10  | 0.2  | Lakshmi Holla  |  Added exercise for Bar plot |\n"
   ]
  },
  {
   "cell_type": "markdown",
   "metadata": {},
   "source": [
    " Copyright &copy; 2020 IBM Corporation. This notebook and its source code are released under the terms of the [MIT License](https://cognitiveclass.ai/mit-license/?utm_medium=Exinfluencer&utm_source=Exinfluencer&utm_content=000026UJ&utm_term=10006555&utm_id=NA-SkillsNetwork-Channel-SkillsNetworkCoursesIBMDeveloperSkillsNetworkST0151ENSkillsNetwork956-2022-01-01).\n"
   ]
  }
 ],
 "metadata": {
  "kernelspec": {
   "display_name": "Python 3 (ipykernel)",
   "language": "python",
   "name": "python3"
  },
  "language_info": {
   "codemirror_mode": {
    "name": "ipython",
    "version": 3
   },
   "file_extension": ".py",
   "mimetype": "text/x-python",
   "name": "python",
   "nbconvert_exporter": "python",
   "pygments_lexer": "ipython3",
   "version": "3.11.4"
  }
 },
 "nbformat": 4,
 "nbformat_minor": 4
}
