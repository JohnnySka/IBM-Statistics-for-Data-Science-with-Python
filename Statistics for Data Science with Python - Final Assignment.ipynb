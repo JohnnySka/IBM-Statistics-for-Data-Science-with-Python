{
 "cells": [
  {
   "cell_type": "markdown",
   "id": "476ad2ff-847f-4e75-ae75-ffb1c9108708",
   "metadata": {},
   "source": [
    "# Statistics for Data Science with Python #\n",
    "## Final Assignment ##\n",
    "### Ioannis Stathakis ###"
   ]
  },
  {
   "cell_type": "markdown",
   "id": "0fd19819-5025-4ef7-9945-ebf313589bc4",
   "metadata": {},
   "source": [
    "Import libraries and load the dataset:"
   ]
  },
  {
   "cell_type": "code",
   "execution_count": 1,
   "id": "a5abdbca-74c7-4488-844e-5ea863fd018d",
   "metadata": {
    "tags": []
   },
   "outputs": [],
   "source": [
    "import pandas as pd\n",
    "import numpy as np\n",
    "import seaborn as sns\n",
    "import matplotlib.pyplot as plt\n",
    "import scipy.stats as stats\n",
    "import statsmodels.api as sm\n",
    "from statsmodels.formula.api import ols"
   ]
  },
  {
   "cell_type": "code",
   "execution_count": 2,
   "id": "9cf246a6-693c-42ed-91e9-3050be703888",
   "metadata": {
    "tags": []
   },
   "outputs": [],
   "source": [
    "boston_url = 'https://cf-courses-data.s3.us.cloud-object-storage.appdomain.cloud/IBMDeveloperSkillsNetwork-ST0151EN-SkillsNetwork/labs/boston_housing.csv'\n",
    "boston_df=pd.read_csv(boston_url)"
   ]
  },
  {
   "cell_type": "markdown",
   "id": "939faa04-193e-497b-999a-fe9ad0492cb4",
   "metadata": {},
   "source": [
    "Exploring the dataset:"
   ]
  },
  {
   "cell_type": "code",
   "execution_count": 3,
   "id": "08e9a270-a7f8-4e46-95ce-75af22cd40fd",
   "metadata": {
    "tags": []
   },
   "outputs": [
    {
     "data": {
      "text/html": [
       "<div>\n",
       "<style scoped>\n",
       "    .dataframe tbody tr th:only-of-type {\n",
       "        vertical-align: middle;\n",
       "    }\n",
       "\n",
       "    .dataframe tbody tr th {\n",
       "        vertical-align: top;\n",
       "    }\n",
       "\n",
       "    .dataframe thead th {\n",
       "        text-align: right;\n",
       "    }\n",
       "</style>\n",
       "<table border=\"1\" class=\"dataframe\">\n",
       "  <thead>\n",
       "    <tr style=\"text-align: right;\">\n",
       "      <th></th>\n",
       "      <th>Unnamed: 0</th>\n",
       "      <th>CRIM</th>\n",
       "      <th>ZN</th>\n",
       "      <th>INDUS</th>\n",
       "      <th>CHAS</th>\n",
       "      <th>NOX</th>\n",
       "      <th>RM</th>\n",
       "      <th>AGE</th>\n",
       "      <th>DIS</th>\n",
       "      <th>RAD</th>\n",
       "      <th>TAX</th>\n",
       "      <th>PTRATIO</th>\n",
       "      <th>LSTAT</th>\n",
       "      <th>MEDV</th>\n",
       "    </tr>\n",
       "  </thead>\n",
       "  <tbody>\n",
       "    <tr>\n",
       "      <th>0</th>\n",
       "      <td>0</td>\n",
       "      <td>0.00632</td>\n",
       "      <td>18.0</td>\n",
       "      <td>2.31</td>\n",
       "      <td>0.0</td>\n",
       "      <td>0.538</td>\n",
       "      <td>6.575</td>\n",
       "      <td>65.2</td>\n",
       "      <td>4.0900</td>\n",
       "      <td>1.0</td>\n",
       "      <td>296.0</td>\n",
       "      <td>15.3</td>\n",
       "      <td>4.98</td>\n",
       "      <td>24.0</td>\n",
       "    </tr>\n",
       "    <tr>\n",
       "      <th>1</th>\n",
       "      <td>1</td>\n",
       "      <td>0.02731</td>\n",
       "      <td>0.0</td>\n",
       "      <td>7.07</td>\n",
       "      <td>0.0</td>\n",
       "      <td>0.469</td>\n",
       "      <td>6.421</td>\n",
       "      <td>78.9</td>\n",
       "      <td>4.9671</td>\n",
       "      <td>2.0</td>\n",
       "      <td>242.0</td>\n",
       "      <td>17.8</td>\n",
       "      <td>9.14</td>\n",
       "      <td>21.6</td>\n",
       "    </tr>\n",
       "    <tr>\n",
       "      <th>2</th>\n",
       "      <td>2</td>\n",
       "      <td>0.02729</td>\n",
       "      <td>0.0</td>\n",
       "      <td>7.07</td>\n",
       "      <td>0.0</td>\n",
       "      <td>0.469</td>\n",
       "      <td>7.185</td>\n",
       "      <td>61.1</td>\n",
       "      <td>4.9671</td>\n",
       "      <td>2.0</td>\n",
       "      <td>242.0</td>\n",
       "      <td>17.8</td>\n",
       "      <td>4.03</td>\n",
       "      <td>34.7</td>\n",
       "    </tr>\n",
       "    <tr>\n",
       "      <th>3</th>\n",
       "      <td>3</td>\n",
       "      <td>0.03237</td>\n",
       "      <td>0.0</td>\n",
       "      <td>2.18</td>\n",
       "      <td>0.0</td>\n",
       "      <td>0.458</td>\n",
       "      <td>6.998</td>\n",
       "      <td>45.8</td>\n",
       "      <td>6.0622</td>\n",
       "      <td>3.0</td>\n",
       "      <td>222.0</td>\n",
       "      <td>18.7</td>\n",
       "      <td>2.94</td>\n",
       "      <td>33.4</td>\n",
       "    </tr>\n",
       "    <tr>\n",
       "      <th>4</th>\n",
       "      <td>4</td>\n",
       "      <td>0.06905</td>\n",
       "      <td>0.0</td>\n",
       "      <td>2.18</td>\n",
       "      <td>0.0</td>\n",
       "      <td>0.458</td>\n",
       "      <td>7.147</td>\n",
       "      <td>54.2</td>\n",
       "      <td>6.0622</td>\n",
       "      <td>3.0</td>\n",
       "      <td>222.0</td>\n",
       "      <td>18.7</td>\n",
       "      <td>5.33</td>\n",
       "      <td>36.2</td>\n",
       "    </tr>\n",
       "  </tbody>\n",
       "</table>\n",
       "</div>"
      ],
      "text/plain": [
       "   Unnamed: 0     CRIM    ZN  INDUS  CHAS    NOX     RM   AGE     DIS  RAD  \\\n",
       "0           0  0.00632  18.0   2.31   0.0  0.538  6.575  65.2  4.0900  1.0   \n",
       "1           1  0.02731   0.0   7.07   0.0  0.469  6.421  78.9  4.9671  2.0   \n",
       "2           2  0.02729   0.0   7.07   0.0  0.469  7.185  61.1  4.9671  2.0   \n",
       "3           3  0.03237   0.0   2.18   0.0  0.458  6.998  45.8  6.0622  3.0   \n",
       "4           4  0.06905   0.0   2.18   0.0  0.458  7.147  54.2  6.0622  3.0   \n",
       "\n",
       "     TAX  PTRATIO  LSTAT  MEDV  \n",
       "0  296.0     15.3   4.98  24.0  \n",
       "1  242.0     17.8   9.14  21.6  \n",
       "2  242.0     17.8   4.03  34.7  \n",
       "3  222.0     18.7   2.94  33.4  \n",
       "4  222.0     18.7   5.33  36.2  "
      ]
     },
     "execution_count": 3,
     "metadata": {},
     "output_type": "execute_result"
    }
   ],
   "source": [
    "boston_df.head()"
   ]
  },
  {
   "cell_type": "code",
   "execution_count": 4,
   "id": "d2c2c3fe-6f16-45c8-abd9-5bf3a5e4716b",
   "metadata": {
    "tags": []
   },
   "outputs": [
    {
     "data": {
      "text/html": [
       "<div>\n",
       "<style scoped>\n",
       "    .dataframe tbody tr th:only-of-type {\n",
       "        vertical-align: middle;\n",
       "    }\n",
       "\n",
       "    .dataframe tbody tr th {\n",
       "        vertical-align: top;\n",
       "    }\n",
       "\n",
       "    .dataframe thead th {\n",
       "        text-align: right;\n",
       "    }\n",
       "</style>\n",
       "<table border=\"1\" class=\"dataframe\">\n",
       "  <thead>\n",
       "    <tr style=\"text-align: right;\">\n",
       "      <th></th>\n",
       "      <th>Unnamed: 0</th>\n",
       "      <th>CRIM</th>\n",
       "      <th>ZN</th>\n",
       "      <th>INDUS</th>\n",
       "      <th>CHAS</th>\n",
       "      <th>NOX</th>\n",
       "      <th>RM</th>\n",
       "      <th>AGE</th>\n",
       "      <th>DIS</th>\n",
       "      <th>RAD</th>\n",
       "      <th>TAX</th>\n",
       "      <th>PTRATIO</th>\n",
       "      <th>LSTAT</th>\n",
       "      <th>MEDV</th>\n",
       "    </tr>\n",
       "  </thead>\n",
       "  <tbody>\n",
       "    <tr>\n",
       "      <th>count</th>\n",
       "      <td>506.000000</td>\n",
       "      <td>506.000000</td>\n",
       "      <td>506.000000</td>\n",
       "      <td>506.000000</td>\n",
       "      <td>506.000000</td>\n",
       "      <td>506.000000</td>\n",
       "      <td>506.000000</td>\n",
       "      <td>506.000000</td>\n",
       "      <td>506.000000</td>\n",
       "      <td>506.000000</td>\n",
       "      <td>506.000000</td>\n",
       "      <td>506.000000</td>\n",
       "      <td>506.000000</td>\n",
       "      <td>506.000000</td>\n",
       "    </tr>\n",
       "    <tr>\n",
       "      <th>mean</th>\n",
       "      <td>252.500000</td>\n",
       "      <td>3.613524</td>\n",
       "      <td>11.363636</td>\n",
       "      <td>11.136779</td>\n",
       "      <td>0.069170</td>\n",
       "      <td>0.554695</td>\n",
       "      <td>6.284634</td>\n",
       "      <td>68.574901</td>\n",
       "      <td>3.795043</td>\n",
       "      <td>9.549407</td>\n",
       "      <td>408.237154</td>\n",
       "      <td>18.455534</td>\n",
       "      <td>12.653063</td>\n",
       "      <td>22.532806</td>\n",
       "    </tr>\n",
       "    <tr>\n",
       "      <th>std</th>\n",
       "      <td>146.213884</td>\n",
       "      <td>8.601545</td>\n",
       "      <td>23.322453</td>\n",
       "      <td>6.860353</td>\n",
       "      <td>0.253994</td>\n",
       "      <td>0.115878</td>\n",
       "      <td>0.702617</td>\n",
       "      <td>28.148861</td>\n",
       "      <td>2.105710</td>\n",
       "      <td>8.707259</td>\n",
       "      <td>168.537116</td>\n",
       "      <td>2.164946</td>\n",
       "      <td>7.141062</td>\n",
       "      <td>9.197104</td>\n",
       "    </tr>\n",
       "    <tr>\n",
       "      <th>min</th>\n",
       "      <td>0.000000</td>\n",
       "      <td>0.006320</td>\n",
       "      <td>0.000000</td>\n",
       "      <td>0.460000</td>\n",
       "      <td>0.000000</td>\n",
       "      <td>0.385000</td>\n",
       "      <td>3.561000</td>\n",
       "      <td>2.900000</td>\n",
       "      <td>1.129600</td>\n",
       "      <td>1.000000</td>\n",
       "      <td>187.000000</td>\n",
       "      <td>12.600000</td>\n",
       "      <td>1.730000</td>\n",
       "      <td>5.000000</td>\n",
       "    </tr>\n",
       "    <tr>\n",
       "      <th>25%</th>\n",
       "      <td>126.250000</td>\n",
       "      <td>0.082045</td>\n",
       "      <td>0.000000</td>\n",
       "      <td>5.190000</td>\n",
       "      <td>0.000000</td>\n",
       "      <td>0.449000</td>\n",
       "      <td>5.885500</td>\n",
       "      <td>45.025000</td>\n",
       "      <td>2.100175</td>\n",
       "      <td>4.000000</td>\n",
       "      <td>279.000000</td>\n",
       "      <td>17.400000</td>\n",
       "      <td>6.950000</td>\n",
       "      <td>17.025000</td>\n",
       "    </tr>\n",
       "    <tr>\n",
       "      <th>50%</th>\n",
       "      <td>252.500000</td>\n",
       "      <td>0.256510</td>\n",
       "      <td>0.000000</td>\n",
       "      <td>9.690000</td>\n",
       "      <td>0.000000</td>\n",
       "      <td>0.538000</td>\n",
       "      <td>6.208500</td>\n",
       "      <td>77.500000</td>\n",
       "      <td>3.207450</td>\n",
       "      <td>5.000000</td>\n",
       "      <td>330.000000</td>\n",
       "      <td>19.050000</td>\n",
       "      <td>11.360000</td>\n",
       "      <td>21.200000</td>\n",
       "    </tr>\n",
       "    <tr>\n",
       "      <th>75%</th>\n",
       "      <td>378.750000</td>\n",
       "      <td>3.677083</td>\n",
       "      <td>12.500000</td>\n",
       "      <td>18.100000</td>\n",
       "      <td>0.000000</td>\n",
       "      <td>0.624000</td>\n",
       "      <td>6.623500</td>\n",
       "      <td>94.075000</td>\n",
       "      <td>5.188425</td>\n",
       "      <td>24.000000</td>\n",
       "      <td>666.000000</td>\n",
       "      <td>20.200000</td>\n",
       "      <td>16.955000</td>\n",
       "      <td>25.000000</td>\n",
       "    </tr>\n",
       "    <tr>\n",
       "      <th>max</th>\n",
       "      <td>505.000000</td>\n",
       "      <td>88.976200</td>\n",
       "      <td>100.000000</td>\n",
       "      <td>27.740000</td>\n",
       "      <td>1.000000</td>\n",
       "      <td>0.871000</td>\n",
       "      <td>8.780000</td>\n",
       "      <td>100.000000</td>\n",
       "      <td>12.126500</td>\n",
       "      <td>24.000000</td>\n",
       "      <td>711.000000</td>\n",
       "      <td>22.000000</td>\n",
       "      <td>37.970000</td>\n",
       "      <td>50.000000</td>\n",
       "    </tr>\n",
       "  </tbody>\n",
       "</table>\n",
       "</div>"
      ],
      "text/plain": [
       "       Unnamed: 0        CRIM          ZN       INDUS        CHAS         NOX  \\\n",
       "count  506.000000  506.000000  506.000000  506.000000  506.000000  506.000000   \n",
       "mean   252.500000    3.613524   11.363636   11.136779    0.069170    0.554695   \n",
       "std    146.213884    8.601545   23.322453    6.860353    0.253994    0.115878   \n",
       "min      0.000000    0.006320    0.000000    0.460000    0.000000    0.385000   \n",
       "25%    126.250000    0.082045    0.000000    5.190000    0.000000    0.449000   \n",
       "50%    252.500000    0.256510    0.000000    9.690000    0.000000    0.538000   \n",
       "75%    378.750000    3.677083   12.500000   18.100000    0.000000    0.624000   \n",
       "max    505.000000   88.976200  100.000000   27.740000    1.000000    0.871000   \n",
       "\n",
       "               RM         AGE         DIS         RAD         TAX     PTRATIO  \\\n",
       "count  506.000000  506.000000  506.000000  506.000000  506.000000  506.000000   \n",
       "mean     6.284634   68.574901    3.795043    9.549407  408.237154   18.455534   \n",
       "std      0.702617   28.148861    2.105710    8.707259  168.537116    2.164946   \n",
       "min      3.561000    2.900000    1.129600    1.000000  187.000000   12.600000   \n",
       "25%      5.885500   45.025000    2.100175    4.000000  279.000000   17.400000   \n",
       "50%      6.208500   77.500000    3.207450    5.000000  330.000000   19.050000   \n",
       "75%      6.623500   94.075000    5.188425   24.000000  666.000000   20.200000   \n",
       "max      8.780000  100.000000   12.126500   24.000000  711.000000   22.000000   \n",
       "\n",
       "            LSTAT        MEDV  \n",
       "count  506.000000  506.000000  \n",
       "mean    12.653063   22.532806  \n",
       "std      7.141062    9.197104  \n",
       "min      1.730000    5.000000  \n",
       "25%      6.950000   17.025000  \n",
       "50%     11.360000   21.200000  \n",
       "75%     16.955000   25.000000  \n",
       "max     37.970000   50.000000  "
      ]
     },
     "execution_count": 4,
     "metadata": {},
     "output_type": "execute_result"
    }
   ],
   "source": [
    "boston_df.describe()"
   ]
  },
  {
   "cell_type": "markdown",
   "id": "3adfef5c-18f3-4b89-96b1-d385872f04f9",
   "metadata": {},
   "source": [
    "# Part 1 - Generate Descriptive Statistics and Visualizations #\n",
    "## *Question 1: For the 'Median value of owner-occupied homes' provide a boxplot* ##"
   ]
  },
  {
   "cell_type": "code",
   "execution_count": 5,
   "id": "a32241e2-9723-46ce-bd3c-1a6f26c34ff3",
   "metadata": {
    "tags": []
   },
   "outputs": [
    {
     "data": {
      "image/png": "[encoded data removed]",
      "text/plain": [
       "<Figure size 800x500 with 1 Axes>"
      ]
     },
     "metadata": {},
     "output_type": "display_data"
    }
   ],
   "source": [
    "sns.set(style=\"darkgrid\")\n",
    "plt.figure(figsize=(8,5))\n",
    "sns.boxplot(data=boston_df, x=\"MEDV\")\n",
    "plt.title(\"Owner-Occupied Homes Boxplot\")\n",
    "plt.ylabel(\"Median Value in $1000\")\n",
    "plt.show()"
   ]
  },
  {
   "cell_type": "markdown",
   "id": "5e4a93b1-3d37-4fce-a70f-d1b551ae04f0",
   "metadata": {},
   "source": [
    "We can observe the median of the values at about 21 and the 25% and 75% percentiles at about 17 and 25 respectively (in $1000).\n",
    "Also notable is the single outlier below the lower bound, in contrast with the many outliers that can be observed above the upper bound."
   ]
  },
  {
   "cell_type": "markdown",
   "id": "ebe359c5-6eeb-471b-ba2c-0703f370cdd2",
   "metadata": {},
   "source": [
    "## *Question 2: Provide a bar plot for the Charles River variable* ##"
   ]
  },
  {
   "cell_type": "code",
   "execution_count": 6,
   "id": "cf959689-aba2-4981-8fb8-4be6464d732c",
   "metadata": {
    "tags": []
   },
   "outputs": [
    {
     "data": {
      "image/png": "[encoded data removed]",
      "text/plain": [
       "<Figure size 800x500 with 1 Axes>"
      ]
     },
     "metadata": {},
     "output_type": "display_data"
    }
   ],
   "source": [
    "plt.figure(figsize=(8,5))\n",
    "ax = sns.countplot(data=boston_df, x=\"CHAS\")\n",
    "plt.title(\"Histogram of Homes regarding proximity to the Charles River\")\n",
    "plt.xlabel(\"CHAS Variable\")\n",
    "plt.ylabel(\"Count\")\n",
    "ax.set_xticks([0, 1])\n",
    "ax.set_xticklabels([\"Unbounded\", \"Bounded\"])\n",
    "ax.bar_label(ax.containers[0])\n",
    "plt.show()"
   ]
  },
  {
   "cell_type": "markdown",
   "id": "baf29191-5b1c-4b98-ac76-98af9b3516ed",
   "metadata": {},
   "source": [
    "We can observe from the plot that the vast majority of houses are not bounded to the Charles River."
   ]
  },
  {
   "cell_type": "markdown",
   "id": "dc9eaddc-4cf3-42f4-9022-1f9a5f2731c9",
   "metadata": {},
   "source": [
    "## *Question 3: Provide a boxplot for the MEDV variable vs the AGE variable* ##\n",
    "## *(Discretize the age variable into three groups of 35 years and younger, between 35 and 70 years, and 70 years and older)* ##"
   ]
  },
  {
   "cell_type": "code",
   "execution_count": 7,
   "id": "bbb27c54-9b20-46e8-a59f-e8df8857b81d",
   "metadata": {
    "tags": []
   },
   "outputs": [
    {
     "data": {
      "image/png": "[encoded data removed]",
      "text/plain": [
       "<Figure size 700x500 with 1 Axes>"
      ]
     },
     "metadata": {},
     "output_type": "display_data"
    }
   ],
   "source": [
    "boston_df.loc[boston_df[\"AGE\"]<35, \"Age_Group\"] = \"Age 35 or younger\"\n",
    "boston_df.loc[(boston_df[\"AGE\"]>35) & (boston_df[\"AGE\"]<70), \"Age_Group\"] = \"Age Between 35 and 70\"\n",
    "boston_df.loc[boston_df[\"AGE\"]>70, \"Age_Group\"] = \"Age 70 or older\"\n",
    "\n",
    "plt.figure(figsize=(7,5))\n",
    "sns.boxplot(data=boston_df, y=\"Age_Group\", x=\"MEDV\",\n",
    "            order=[\"Age 70 or older\", \"Age Between 35 and 70\", \"Age 35 or younger\"])\n",
    "plt.title(\"Median Value of Owner-Occupied Homes per Age Group\")\n",
    "plt.ylabel(\"Age Group\")\n",
    "plt.xlabel(\"Median Value in $1000\")\n",
    "plt.show()"
   ]
  },
  {
   "cell_type": "markdown",
   "id": "d7b0ad8a-7cd6-4f8c-8878-693b589c7bcf",
   "metadata": {},
   "source": [
    "The plot shows us that the median value of owner occupied homes seems to be higher at lower ages.\n",
    "The are also more median outliers to be found in the older-age groups."
   ]
  },
  {
   "cell_type": "markdown",
   "id": "21614202-56ad-4e95-af7b-808f61cc1bc9",
   "metadata": {},
   "source": [
    "## *Question 4: Provide a scatter plot to show the relationship between Nitric oxide concentrations and the proportion of non-retail business acres per town.* ## \n",
    "## *What can you say about the relationship?* ##"
   ]
  },
  {
   "cell_type": "code",
   "execution_count": 8,
   "id": "03694fe5-c1f8-480b-8ea8-e17bb799f89c",
   "metadata": {
    "tags": []
   },
   "outputs": [
    {
     "data": {
      "image/png": "[encoded data removed]",
      "text/plain": [
       "<Figure size 700x500 with 1 Axes>"
      ]
     },
     "metadata": {},
     "output_type": "display_data"
    }
   ],
   "source": [
    "plt.figure(figsize=(7,5))\n",
    "sns.scatterplot(data=boston_df, x=\"INDUS\", y=\"NOX\", color=\"purple\")\n",
    "plt.title(\"Scatterplot of NOX vs INDUS\")\n",
    "plt.xlabel(\"Proportion of non-retail business (acres per town)\")\n",
    "plt.ylabel(\"Nitric Oxide Concentration (parts per 10 million\")\n",
    "plt.show()"
   ]
  },
  {
   "cell_type": "markdown",
   "id": "1c57b1f4-c177-40e7-ac64-f86708c6531d",
   "metadata": {},
   "source": [
    "There seems to be a sizeable correlation of non-retail business proportion and Nitric Oxide concentration, stabilizing at around 0.6 NOX and above. "
   ]
  },
  {
   "cell_type": "markdown",
   "id": "88961bd6-fdab-4be9-bf79-6f92bd284d7e",
   "metadata": {},
   "source": [
    "## *Question 5: Create a histogram for the pupil to teacher ratio variable* ##"
   ]
  },
  {
   "cell_type": "code",
   "execution_count": 9,
   "id": "5ac305d6-c2d9-4e0a-801f-a1c45ac5a64c",
   "metadata": {
    "tags": []
   },
   "outputs": [
    {
     "data": {
      "image/png": "[encoded data removed]",
      "text/plain": [
       "<Figure size 800x500 with 1 Axes>"
      ]
     },
     "metadata": {},
     "output_type": "display_data"
    }
   ],
   "source": [
    "plt.figure(figsize=(8,5))\n",
    "ax = sns.histplot(data=boston_df, x=\"PTRATIO\", bins=20, color=\"green\")\n",
    "ax.bar_label(ax.containers[0])\n",
    "plt.ylabel(\"Town Count\")\n",
    "plt.xlabel(\"Pupil to Teacher Ratio\")\n",
    "plt.show()"
   ]
  },
  {
   "cell_type": "markdown",
   "id": "d516ce8f-aef0-48c5-b693-1f6cd62a6870",
   "metadata": {},
   "source": [
    "The vast majority of towns seem to have a pupil-to-teacher ratio of slightly above 20%."
   ]
  },
  {
   "cell_type": "markdown",
   "id": "0d068fc2-86ca-42da-ac05-e3eb78867a7f",
   "metadata": {},
   "source": [
    "# Part 2 - Use the appropriate statistical tests to answer the questions provided #"
   ]
  },
  {
   "cell_type": "markdown",
   "id": "69cde0d5-fa5b-4458-a908-b000e20d23a0",
   "metadata": {},
   "source": [
    "## *Question 1: Is there a significant difference in median value of houses bounded by the Charles river or not?* ##\n",
    "## *(T-test for independent samples)* ##"
   ]
  },
  {
   "cell_type": "markdown",
   "id": "9666da0e-5d1b-40ab-9dc1-a1fb7bf4fca7",
   "metadata": {},
   "source": [
    "Null Hypothesis: There is no significant difference in median value of houses bounded by the Charles River or not.\n",
    "\n",
    "Alternative Hypothesis: There is such a statistically significant difference.\n",
    "\n",
    "We will start with the Levene's Test for Equal Variances.\n",
    "Afterwards, we will use the T-Test for independent samples, and adjust the equal_var parameter accordingly."
   ]
  },
  {
   "cell_type": "markdown",
   "id": "33285eb6-1a06-4588-8e8d-e4c9a3d8548e",
   "metadata": {},
   "source": [
    "We will use significance level alpha (a) equal to 0.05 for all the tests."
   ]
  },
  {
   "cell_type": "code",
   "execution_count": 10,
   "id": "5aef5c24-66bf-4429-83ea-70a087d5ca92",
   "metadata": {
    "tags": []
   },
   "outputs": [
    {
     "data": {
      "text/plain": [
       "LeveneResult(statistic=4.590342218715871, pvalue=0.03263097600633006)"
      ]
     },
     "execution_count": 10,
     "metadata": {},
     "output_type": "execute_result"
    }
   ],
   "source": [
    "#Discretizing the \"CHAS\" variable into two groups\n",
    "boston_df.loc[boston_df[\"CHAS\"]==0, \"CHAS_GROUPED\"] = \"Unbound\"\n",
    "boston_df.loc[boston_df[\"CHAS\"]==1, \"CHAS_GROUPED\"] = \"Bound\"\n",
    "\n",
    "#Levene's Test for Equal Variances between the groups\n",
    "stats.levene(boston_df[boston_df[\"CHAS_GROUPED\"]==\"Unbound\"][\"MEDV\"],\n",
    "             boston_df[boston_df[\"CHAS_GROUPED\"]==\"Bound\"][\"MEDV\"])"
   ]
  },
  {
   "cell_type": "markdown",
   "id": "50515a67-d59f-4dad-9980-76141b71bde1",
   "metadata": {},
   "source": [
    "The Levene's Test returned p-value equal to 0.032, less than our significance level of 0.05.\n",
    "We can reject the null and accept that the groups have unequal variances.\n",
    "Proceeding to to T-Test, we will set the equal_var parameter to \"False\"."
   ]
  },
  {
   "cell_type": "code",
   "execution_count": 11,
   "id": "04c72f6f-9560-4931-b847-9dcf87366ab1",
   "metadata": {
    "tags": []
   },
   "outputs": [
    {
     "data": {
      "text/plain": [
       "TtestResult(statistic=-3.113291312794837, pvalue=0.003567170098137517, df=36.876408797611994)"
      ]
     },
     "execution_count": 11,
     "metadata": {},
     "output_type": "execute_result"
    }
   ],
   "source": [
    "# T-Test for independent samples of unequal variances\n",
    "stats.ttest_ind(boston_df[boston_df[\"CHAS_GROUPED\"]==\"Unbound\"][\"MEDV\"],\n",
    "                boston_df[boston_df[\"CHAS_GROUPED\"]==\"Bound\"][\"MEDV\"],\n",
    "                equal_var=False)"
   ]
  },
  {
   "cell_type": "markdown",
   "id": "de7b839a-4fe2-4d01-8e23-90567aca4a26",
   "metadata": {},
   "source": [
    "**Conclusion:**\n",
    "\n",
    "The p-value returned by the T-Test is considerably lower than our significance level.\n",
    "\n",
    "We can reject the Null Hypothesis and conclude that indeed there seems to be a significant difference in median value of houses bounded by the Charles river or not."
   ]
  },
  {
   "cell_type": "markdown",
   "id": "780dc8fb-d1d3-47e1-a384-666600b4b056",
   "metadata": {
    "tags": []
   },
   "source": [
    "## *Question 2: Is there a difference in Median values of houses (MEDV) for each proportion of owner occupied units built prior to 1940 (AGE)?* ##\n",
    "## *(ANOVA)* ##"
   ]
  },
  {
   "cell_type": "markdown",
   "id": "d2cbcaea-8652-4b24-a773-40d1b609e42c",
   "metadata": {},
   "source": [
    "Null Hypothesis: There is no significant difference in median value of houses (MEDV) for each proportion of units built prior to 1940 (AGE).\n",
    "\n",
    "Alternative Hypothesis: At least one of the means is significantly different.\n",
    "\n",
    "We will use significance level alpha (a) equal to 0.05."
   ]
  },
  {
   "cell_type": "code",
   "execution_count": 12,
   "id": "5a7ae62b-d1a7-44ea-aeb8-4c8c6bf232c9",
   "metadata": {
    "tags": []
   },
   "outputs": [
    {
     "name": "stdout",
     "output_type": "stream",
     "text": [
      "F_Statistic: 36.40764999196599, P-Value: 1.7105011022702984e-15\n"
     ]
    }
   ],
   "source": [
    "# Utilizing the grouping we did earlier on the AGE column\n",
    "boston_df.loc[boston_df[\"AGE\"]<35, \"Age_Group\"] = \"Age 35 or younger\"\n",
    "boston_df.loc[(boston_df[\"AGE\"]>35) & (boston_df[\"AGE\"]<70), \"Age_Group\"] = \"Age Between 35 and 70\"\n",
    "boston_df.loc[boston_df[\"AGE\"]>70, \"Age_Group\"] = \"Age 70 or older\"\n",
    "\n",
    "# Separating the samples\n",
    "_35_or_younger = boston_df[boston_df['Age_Group'] == 'Age 35 or younger']['MEDV']\n",
    "_35_to_70 = boston_df[boston_df['Age_Group'] == 'Age Between 35 and 70']['MEDV']\n",
    "_70_or_older = boston_df[boston_df['Age_Group'] == 'Age 70 or older']['MEDV']\n",
    "\n",
    "# Run the One-Way ANOVA\n",
    "f_statistic, p_value = stats.f_oneway(_35_or_younger, _35_to_70, _70_or_older)\n",
    "print(\"F_Statistic: {0}, P-Value: {1}\".format(f_statistic,p_value))"
   ]
  },
  {
   "cell_type": "markdown",
   "id": "c8c4fd8b-7aea-4a94-8f7b-22e7491c0529",
   "metadata": {},
   "source": [
    "**Conclusion:**\n",
    "\n",
    "Since the p-value is less than our significance level (a=0.05), we will reject the null hypothesis as there is significant evidence that at least one of the means differ."
   ]
  },
  {
   "cell_type": "markdown",
   "id": "6b315e3f-4b12-49a0-82aa-8f58b0777c14",
   "metadata": {},
   "source": [
    "## *Question 3: Can we conclude that there is no relationship between Nitric oxide concentrations and proportion of non-retail business acres per town?* ##\n",
    "## *(Pearson Correlation)* ##"
   ]
  },
  {
   "cell_type": "markdown",
   "id": "e0895b40-f395-477e-99ab-f2d855717367",
   "metadata": {},
   "source": [
    "Null Hypothesis: There is no significant relationship between Nitric Oxide concentrations and proportion of non-retail business acres per town.\n",
    "\n",
    "Alternative Hypothesis: There is such a statistically significant relationship.\n",
    "\n",
    "We will use significance level alpha (a) equal to 0.05."
   ]
  },
  {
   "cell_type": "code",
   "execution_count": 13,
   "id": "b16de1b8-dc53-4993-b03a-eb699b38bf10",
   "metadata": {
    "tags": []
   },
   "outputs": [
    {
     "name": "stdout",
     "output_type": "stream",
     "text": [
      "The Pearson Coefficient is 0.7636514469209157  and the p-value is 7.91336106123623e-98\n"
     ]
    }
   ],
   "source": [
    "# Run the Pearson Correlation Test\n",
    "pearson_r, p_value = stats.pearsonr(boston_df[\"NOX\"], boston_df[\"INDUS\"])\n",
    "print(\"The Pearson Coefficient is\", pearson_r, \" and the p-value is\", p_value)"
   ]
  },
  {
   "cell_type": "markdown",
   "id": "cf1daaf8-faab-4148-b572-926345eb2df4",
   "metadata": {},
   "source": [
    "**Conclusion:**\n",
    "\n",
    "The p-value returned by the Pearson Correlation Test is considerably lower than our significance level alpha.\n",
    "\n",
    "We can therefore reject the Null Hypothesis and conclude that there seems to be a significant relationship between Nitric Oxide concentrations and proportion of non-retail business acres per town.\n",
    "\n",
    "The Pearson Coefficient equal to 0.76 points to a strong positive correlation of these two variables."
   ]
  },
  {
   "cell_type": "markdown",
   "id": "b797d8b3-258f-4c8c-be10-660b04a51e7a",
   "metadata": {},
   "source": [
    "## *Question 4: What is the impact of an additional weighted distance  to the five Boston employment centres on the median value of owner occupied homes?* ##\n",
    "## *(Regression analysis)* ##"
   ]
  },
  {
   "cell_type": "markdown",
   "id": "26c3cd32-5d6b-4665-98ad-d95189d97712",
   "metadata": {},
   "source": [
    "Null Hypothesis: There is no significant impact of an additional weighted distance to the five Boston employment centres on the median value of owner occupied homes.\n",
    "\n",
    "Alternative Hypothesis: There is such a statistically significant impact/correlation.\n",
    "\n",
    "We will use significance level alpha (a) equal to 0.05.\n",
    "\n",
    "Regression Analysis is deployed in place of Pearson Correlation, since we are interested on the impact of one variable (DIS) on another (MEDV)."
   ]
  },
  {
   "cell_type": "code",
   "execution_count": 14,
   "id": "5b25edd1-c06f-42d4-9a74-151b68462d69",
   "metadata": {
    "tags": []
   },
   "outputs": [
    {
     "data": {
      "text/html": [
       "<table class=\"simpletable\">\n",
       "<caption>OLS Regression Results</caption>\n",
       "<tr>\n",
       "  <th>Dep. Variable:</th>          <td>MEDV</td>       <th>  R-squared:         </th> <td>   0.062</td>\n",
       "</tr>\n",
       "<tr>\n",
       "  <th>Model:</th>                   <td>OLS</td>       <th>  Adj. R-squared:    </th> <td>   0.061</td>\n",
       "</tr>\n",
       "<tr>\n",
       "  <th>Method:</th>             <td>Least Squares</td>  <th>  F-statistic:       </th> <td>   33.58</td>\n",
       "</tr>\n",
       "<tr>\n",
       "  <th>Date:</th>             <td>Mon, 04 Sep 2023</td> <th>  Prob (F-statistic):</th> <td>1.21e-08</td>\n",
       "</tr>\n",
       "<tr>\n",
       "  <th>Time:</th>                 <td>01:02:51</td>     <th>  Log-Likelihood:    </th> <td> -1823.9</td>\n",
       "</tr>\n",
       "<tr>\n",
       "  <th>No. Observations:</th>      <td>   506</td>      <th>  AIC:               </th> <td>   3652.</td>\n",
       "</tr>\n",
       "<tr>\n",
       "  <th>Df Residuals:</th>          <td>   504</td>      <th>  BIC:               </th> <td>   3660.</td>\n",
       "</tr>\n",
       "<tr>\n",
       "  <th>Df Model:</th>              <td>     1</td>      <th>                     </th>     <td> </td>   \n",
       "</tr>\n",
       "<tr>\n",
       "  <th>Covariance Type:</th>      <td>nonrobust</td>    <th>                     </th>     <td> </td>   \n",
       "</tr>\n",
       "</table>\n",
       "<table class=\"simpletable\">\n",
       "<tr>\n",
       "    <td></td>       <th>coef</th>     <th>std err</th>      <th>t</th>      <th>P>|t|</th>  <th>[0.025</th>    <th>0.975]</th>  \n",
       "</tr>\n",
       "<tr>\n",
       "  <th>const</th> <td>   18.3901</td> <td>    0.817</td> <td>   22.499</td> <td> 0.000</td> <td>   16.784</td> <td>   19.996</td>\n",
       "</tr>\n",
       "<tr>\n",
       "  <th>DIS</th>   <td>    1.0916</td> <td>    0.188</td> <td>    5.795</td> <td> 0.000</td> <td>    0.722</td> <td>    1.462</td>\n",
       "</tr>\n",
       "</table>\n",
       "<table class=\"simpletable\">\n",
       "<tr>\n",
       "  <th>Omnibus:</th>       <td>139.779</td> <th>  Durbin-Watson:     </th> <td>   0.570</td>\n",
       "</tr>\n",
       "<tr>\n",
       "  <th>Prob(Omnibus):</th> <td> 0.000</td>  <th>  Jarque-Bera (JB):  </th> <td> 305.104</td>\n",
       "</tr>\n",
       "<tr>\n",
       "  <th>Skew:</th>          <td> 1.466</td>  <th>  Prob(JB):          </th> <td>5.59e-67</td>\n",
       "</tr>\n",
       "<tr>\n",
       "  <th>Kurtosis:</th>      <td> 5.424</td>  <th>  Cond. No.          </th> <td>    9.32</td>\n",
       "</tr>\n",
       "</table><br/><br/>Notes:<br/>[1] Standard Errors assume that the covariance matrix of the errors is correctly specified."
      ],
      "text/latex": [
       "\\begin{center}\n",
       "\\begin{tabular}{lclc}\n",
       "\\toprule\n",
       "\\textbf{Dep. Variable:}    &       MEDV       & \\textbf{  R-squared:         } &     0.062   \\\\\n",
       "\\textbf{Model:}            &       OLS        & \\textbf{  Adj. R-squared:    } &     0.061   \\\\\n",
       "\\textbf{Method:}           &  Least Squares   & \\textbf{  F-statistic:       } &     33.58   \\\\\n",
       "\\textbf{Date:}             & Mon, 04 Sep 2023 & \\textbf{  Prob (F-statistic):} &  1.21e-08   \\\\\n",
       "\\textbf{Time:}             &     01:02:51     & \\textbf{  Log-Likelihood:    } &   -1823.9   \\\\\n",
       "\\textbf{No. Observations:} &         506      & \\textbf{  AIC:               } &     3652.   \\\\\n",
       "\\textbf{Df Residuals:}     &         504      & \\textbf{  BIC:               } &     3660.   \\\\\n",
       "\\textbf{Df Model:}         &           1      & \\textbf{                     } &             \\\\\n",
       "\\textbf{Covariance Type:}  &    nonrobust     & \\textbf{                     } &             \\\\\n",
       "\\bottomrule\n",
       "\\end{tabular}\n",
       "\\begin{tabular}{lcccccc}\n",
       "               & \\textbf{coef} & \\textbf{std err} & \\textbf{t} & \\textbf{P$> |$t$|$} & \\textbf{[0.025} & \\textbf{0.975]}  \\\\\n",
       "\\midrule\n",
       "\\textbf{const} &      18.3901  &        0.817     &    22.499  &         0.000        &       16.784    &       19.996     \\\\\n",
       "\\textbf{DIS}   &       1.0916  &        0.188     &     5.795  &         0.000        &        0.722    &        1.462     \\\\\n",
       "\\bottomrule\n",
       "\\end{tabular}\n",
       "\\begin{tabular}{lclc}\n",
       "\\textbf{Omnibus:}       & 139.779 & \\textbf{  Durbin-Watson:     } &    0.570  \\\\\n",
       "\\textbf{Prob(Omnibus):} &   0.000 & \\textbf{  Jarque-Bera (JB):  } &  305.104  \\\\\n",
       "\\textbf{Skew:}          &   1.466 & \\textbf{  Prob(JB):          } & 5.59e-67  \\\\\n",
       "\\textbf{Kurtosis:}      &   5.424 & \\textbf{  Cond. No.          } &     9.32  \\\\\n",
       "\\bottomrule\n",
       "\\end{tabular}\n",
       "%\\caption{OLS Regression Results}\n",
       "\\end{center}\n",
       "\n",
       "Notes: \\newline\n",
       " [1] Standard Errors assume that the covariance matrix of the errors is correctly specified."
      ],
      "text/plain": [
       "<class 'statsmodels.iolib.summary.Summary'>\n",
       "\"\"\"\n",
       "                            OLS Regression Results                            \n",
       "==============================================================================\n",
       "Dep. Variable:                   MEDV   R-squared:                       0.062\n",
       "Model:                            OLS   Adj. R-squared:                  0.061\n",
       "Method:                 Least Squares   F-statistic:                     33.58\n",
       "Date:                Mon, 04 Sep 2023   Prob (F-statistic):           1.21e-08\n",
       "Time:                        01:02:51   Log-Likelihood:                -1823.9\n",
       "No. Observations:                 506   AIC:                             3652.\n",
       "Df Residuals:                     504   BIC:                             3660.\n",
       "Df Model:                           1                                         \n",
       "Covariance Type:            nonrobust                                         \n",
       "==============================================================================\n",
       "                 coef    std err          t      P>|t|      [0.025      0.975]\n",
       "------------------------------------------------------------------------------\n",
       "const         18.3901      0.817     22.499      0.000      16.784      19.996\n",
       "DIS            1.0916      0.188      5.795      0.000       0.722       1.462\n",
       "==============================================================================\n",
       "Omnibus:                      139.779   Durbin-Watson:                   0.570\n",
       "Prob(Omnibus):                  0.000   Jarque-Bera (JB):              305.104\n",
       "Skew:                           1.466   Prob(JB):                     5.59e-67\n",
       "Kurtosis:                       5.424   Cond. No.                         9.32\n",
       "==============================================================================\n",
       "\n",
       "Notes:\n",
       "[1] Standard Errors assume that the covariance matrix of the errors is correctly specified.\n",
       "\"\"\""
      ]
     },
     "execution_count": 14,
     "metadata": {},
     "output_type": "execute_result"
    }
   ],
   "source": [
    "# Setting predictor and target, X and Y respectively\n",
    "X = boston_df[\"DIS\"]\n",
    "Y = boston_df[\"MEDV\"]\n",
    "\n",
    "# Adding an intercept constant to the model\n",
    "X = sm.add_constant(X)\n",
    "\n",
    "# Fitting the model and aquiring predictions\n",
    "model = sm.OLS(Y,X).fit()\n",
    "predictions = model.predict(X)\n",
    "\n",
    "# Print out the statistics\n",
    "model.summary()"
   ]
  },
  {
   "cell_type": "markdown",
   "id": "010ee01c-1413-4309-bc78-b8e96dd2c745",
   "metadata": {},
   "source": [
    "**Conclusion:**\n",
    "\n",
    "The returned R-squared is 0.062, which means that the Pearson Correlation would be roughly 0.24, indicating a medium positive correlation of these two variables.\n",
    "\n",
    "The relevant p-value, Prob(F-statistic), is 1.21e-08, well bellow our significance level alpha (a=0.05).\n",
    "\n",
    "We can therefore reject the Null Hypothesis and conclude that there seems to be an impact of an additional weighted distance to the five Boston employment centres (DIS), on the median value of owner occupied homes (MEDV).\n",
    "\n",
    "The DIS Coefficient valued roughly at 1.09 indicates that additional weighted distance to the five Boston employment centres creates an increase of roughly 1.0916 to the median value of owner occupied homes."
   ]
  },
  {
   "cell_type": "markdown",
   "id": "c9f2fd6e-b0c0-4006-80ff-82a3900dbd41",
   "metadata": {},
   "source": [
    "# AUTHOR: #  \n",
    "### Ioannis Stathakis ###"
   ]
  },
  {
   "cell_type": "code",
   "execution_count": null,
   "id": "4fe698ff-b634-4d20-b788-0a2958fa8a52",
   "metadata": {},
   "outputs": [],
   "source": []
  }
 ],
 "metadata": {
  "kernelspec": {
   "display_name": "Python 3 (ipykernel)",
   "language": "python",
   "name": "python3"
  },
  "language_info": {
   "codemirror_mode": {
    "name": "ipython",
    "version": 3
   },
   "file_extension": ".py",
   "mimetype": "text/x-python",
   "name": "python",
   "nbconvert_exporter": "python",
   "pygments_lexer": "ipython3",
   "version": "3.11.4"
  }
 },
 "nbformat": 4,
 "nbformat_minor": 5
}
